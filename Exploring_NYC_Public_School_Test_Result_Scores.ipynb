{
 "cells": [
  {
   "cell_type": "markdown",
   "id": "fe0ea788-58dd-459e-8976-fafdb5c05c6d",
   "metadata": {},
   "source": [
    "# About the Project\n",
    "\n",
    "## Introduction\n",
    "Standardized testing, particularly the SATs, holds significant weight in the American education system, serving as a crucial determinant for college admissions. With each of its three sections—reading, math, and writing—carrying a maximum score of 800 points, the SATs play a pivotal role in assessing students' literacy, numeracy, and writing skills. Analyzing the performance of schools on these tests is paramount for a multitude of stakeholders, including policymakers, educators, researchers, governmental bodies, and parents deliberating on their children's educational paths.\n",
    "\n",
    "## Dataset Overview\n",
    "For this project, we have been provided with a dataset named schools.csv, which encapsulates valuable insights into New York City (NYC) public school SAT performance. This dataset serves as the foundation for our analysis, containing crucial metrics related to SAT scores and other relevant factors. By delving into this dataset, we aim to unravel patterns, trends, and performance metrics of NYC public schools in SAT examinations.\n",
    "\n",
    "## Key Questions\n",
    "\n",
    "Our analysis revolves around three central questions concerning NYC public school SAT performance:\n",
    "\n",
    "1. Which NYC schools have the best math results?\n",
    "2. What are the top 10 performing schools based on the combined SAT scores?\n",
    "3. Which single borough has the largest standard deviation in the combined SAT score?\n",
    "\n",
    "Through rigorous examination and data-driven insights, we endeavor to shed light on these inquiries, providing valuable insights for stakeholders invested in understanding and improving NYC public school education.\n",
    "\n",
    "\n",
    "\n"
   ]
  },
  {
   "cell_type": "markdown",
   "id": "ac5e49ba",
   "metadata": {
    "executionCancelledAt": null,
    "executionTime": 31,
    "id": "bA5ajAmk7XH6",
    "lastExecutedAt": 1707736600019,
    "lastScheduledRunId": null,
    "lastSuccessfullyExecutedCode": "# Re-run this cell \nimport pandas as pd\n\n# Read in the data\nschools = pd.read_csv(\"schools.csv\")\n\n# Preview the data\nschools.head()\n\n# NYC schools that have the best math results\nfiltered_schools = schools[schools['average_math'] / 800 >= 0.8]\nbest_math_schools = filtered_schools[['school_name', 'average_math']].sort_values(by='average_math', ascending=False)\nprint(best_math_schools)\n# The top 10 performing schools based on the combined SAT scores\nschools['total_SAT']=schools['average_math']+schools['average_reading']+schools['average_writing']\ntop_10_schools=schools[['school_name', 'total_SAT']].sort_values(by='total_SAT', ascending=False)\ntop_10_schools = top_10_schools.head(10)\nprint(top_10_schools)\n\n# The largest standard deviation in the combined SAT score of the single borough\n\nboroughs = schools.groupby(\"borough\")[\"total_SAT\"].agg([\"count\", \"mean\", \"std\"]).round(2)\n\n# Filter for max std and make borough a column\nlargest_std_dev = boroughs[boroughs[\"std\"] == boroughs[\"std\"].max()]\n\n# Rename the columns for clarity\nlargest_std_dev = largest_std_dev.rename(columns={\"count\": \"num_schools\", \"mean\": \"average_SAT\", \"std\": \"std_SAT\"})\nprint(largest_std_dev)\n\n\n\n\n",
    "outputsMetadata": {
     "0": {
      "height": 497,
      "type": "stream"
     },
     "1": {
      "height": 212,
      "type": "dataFrame"
     }
    }
   },
   "source": [
    "## Question 1: Which NYC schools have the best math results?\n",
    "\n",
    "To determine the schools with the best math results, we establish a threshold of at least 80% of the maximum possible score of 800 for math. This criterion ensures that we focus on schools where students perform exceptionally well in mathematics."
   ]
  },
  {
   "cell_type": "code",
   "execution_count": 38,
   "id": "0c62cc6e",
   "metadata": {
    "scrolled": true
   },
   "outputs": [
    {
     "name": "stdout",
     "output_type": "stream",
     "text": [
      "|    | school_name                                                           |   average_math |\n",
      "|---:|:----------------------------------------------------------------------|---------------:|\n",
      "|  0 | Stuyvesant High School                                                |            754 |\n",
      "|  1 | Bronx High School of Science                                          |            714 |\n",
      "|  2 | Staten Island Technical High School                                   |            711 |\n",
      "|  3 | Queens High School for the Sciences at York College                   |            701 |\n",
      "|  4 | High School for Mathematics, Science, and Engineering at City College |            683 |\n",
      "|  5 | Brooklyn Technical High School                                        |            682 |\n",
      "|  6 | Townsend Harris High School                                           |            680 |\n",
      "|  7 | High School of American Studies at Lehman College                     |            669 |\n",
      "|  8 | New Explorations into Science, Technology and Math High School        |            657 |\n",
      "|  9 | Eleanor Roosevelt High School                                         |            641 |\n"
     ]
    }
   ],
   "source": [
    "# Re-run this cell \n",
    "import pandas as pd\n",
    "from tabulate import tabulate\n",
    "\n",
    "# Read in the data\n",
    "schools = pd.read_csv(r'H:\\Project\\Exploring_NYC_Public_School_Test_Result_Scores\\Data Source\\schools.csv')\n",
    "\n",
    "# Preview the data\n",
    "schools.head()\n",
    "\n",
    "# NYC schools that have the best math results\n",
    "filtered_schools = schools[schools['average_math'] / 800 >= 0.8]\n",
    "best_math_schools = filtered_schools[['school_name', 'average_math']].sort_values(by='average_math', ascending=False)\n",
    "best_math_schools=best_math_schools.reset_index(drop=True)\n",
    "best_math_schools_table = tabulate(best_math_schools, headers='keys', tablefmt='pipe')\n",
    "print(best_math_schools_table)\n"
   ]
  },
  {
   "cell_type": "markdown",
   "id": "5c3eefc4",
   "metadata": {},
   "source": [
    "### Best Math Schools: NYC's Top Performers in Math\n",
    "\n",
    "**Stuyvesant High School** leads in math performance among NYC schools, with an average math score of 754, followed closely by **Bronx High School of Science** and **Staten Island Technical High School**, reflecting excellence in math education."
   ]
  },
  {
   "cell_type": "markdown",
   "id": "4acd4393",
   "metadata": {},
   "source": [
    "## Question 2: What are the top 10 performing schools based on the combined SAT scores?\n",
    "\n",
    "To identify the top-performing schools based on the combined SAT scores, we aggregate the scores from the reading, math, and writing sections for each school and rank them accordingly. The resulting DataFrame, named top_10_schools, contains the school names along with their combined SAT scores, sorted in descending order of total SAT scores."
   ]
  },
  {
   "cell_type": "code",
   "execution_count": 39,
   "id": "12150558",
   "metadata": {
    "scrolled": false
   },
   "outputs": [
    {
     "name": "stdout",
     "output_type": "stream",
     "text": [
      "|    | school_name                                                           |   total_SAT |\n",
      "|---:|:----------------------------------------------------------------------|------------:|\n",
      "|  0 | Stuyvesant High School                                                |        2144 |\n",
      "|  1 | Bronx High School of Science                                          |        2041 |\n",
      "|  2 | Staten Island Technical High School                                   |        2041 |\n",
      "|  3 | High School of American Studies at Lehman College                     |        2013 |\n",
      "|  4 | Townsend Harris High School                                           |        1981 |\n",
      "|  5 | Queens High School for the Sciences at York College                   |        1947 |\n",
      "|  6 | Bard High School Early College                                        |        1914 |\n",
      "|  7 | Brooklyn Technical High School                                        |        1896 |\n",
      "|  8 | Eleanor Roosevelt High School                                         |        1889 |\n",
      "|  9 | High School for Mathematics, Science, and Engineering at City College |        1889 |\n"
     ]
    }
   ],
   "source": [
    "# The top 10 performing schools based on the combined SAT scores\n",
    "schools['total_SAT']=schools['average_math']+schools['average_reading']+schools['average_writing']\n",
    "top_10_schools=schools[['school_name', 'total_SAT']].sort_values(by='total_SAT', ascending=False)\n",
    "top_10_schools = top_10_schools.head(10)\n",
    "top_10_schools = top_10_schools.reset_index(drop=True)\n",
    "top_10_schools_table = tabulate(top_10_schools, headers='keys', tablefmt='pipe')\n",
    "print(top_10_schools_table)"
   ]
  },
  {
   "cell_type": "markdown",
   "id": "50be8d9b",
   "metadata": {},
   "source": [
    "### Best NYC Schools: Topping the Charts in SAT Scores\n",
    "\n",
    "**Stuyvesant High School** leads the pack with an impressive combined SAT score of 2144, followed closely by **Bronx High School of Science** and **Staten Island Technical High School**, showcasing excellence in SAT performance among NYC schools."
   ]
  },
  {
   "cell_type": "markdown",
   "id": "ea0e9121",
   "metadata": {},
   "source": [
    "## Question 3: Which single borough has the largest standard deviation in the combined SAT score?\n",
    "\n",
    "To determine the NYC borough with the largest standard deviation in the combined SAT score, we compute the standard deviation of the combined SAT scores for each borough. The resulting DataFrame, named largest_std_dev, provides insights into the variability of SAT scores across different boroughs."
   ]
  },
  {
   "cell_type": "code",
   "execution_count": 40,
   "id": "c5f383f4",
   "metadata": {},
   "outputs": [
    {
     "name": "stdout",
     "output_type": "stream",
     "text": [
      "| borough   |   num_schools |   average_SAT |   std_SAT |\n",
      "|:----------|--------------:|--------------:|----------:|\n",
      "| Manhattan |            89 |       1340.13 |    230.29 |\n"
     ]
    }
   ],
   "source": [
    "# The largest standard deviation in the combined SAT score of the single borough\n",
    "\n",
    "boroughs = schools.groupby(\"borough\")[\"total_SAT\"].agg([\"count\", \"mean\", \"std\"]).round(2)\n",
    "\n",
    "# Filter for max std and make borough a column\n",
    "largest_std_dev = boroughs[boroughs[\"std\"] == boroughs[\"std\"].max()]\n",
    "\n",
    "# Rename the columns for clarity\n",
    "largest_std_dev = largest_std_dev.rename(columns={\"count\": \"num_schools\", \"mean\": \"average_SAT\", \"std\": \"std_SAT\"})\n",
    "largest_std_dev_table = tabulate(largest_std_dev, headers='keys', tablefmt='pipe')\n",
    "print(largest_std_dev_table)"
   ]
  },
  {
   "cell_type": "markdown",
   "id": "a4a38457",
   "metadata": {},
   "source": [
    "### Manhattan Schools Showcase Diverse SAT Performance: A Tale of Variability\n",
    "\n",
    "The borough of **Manhattan** exhibits a notable variability in SAT scores among its 89 schools, with an average combined SAT score of 1340.13 and a standard deviation of 230.29, suggesting diverse academic performance levels across schools in the borough."
   ]
  }
 ],
 "metadata": {
  "editor": "DataCamp Workspace",
  "kernelspec": {
   "display_name": "Python 3 (ipykernel)",
   "language": "python",
   "name": "python3"
  },
  "language_info": {
   "codemirror_mode": {
    "name": "ipython",
    "version": 3
   },
   "file_extension": ".py",
   "mimetype": "text/x-python",
   "name": "python",
   "nbconvert_exporter": "python",
   "pygments_lexer": "ipython3",
   "version": "3.10.9"
  }
 },
 "nbformat": 4,
 "nbformat_minor": 5
}
